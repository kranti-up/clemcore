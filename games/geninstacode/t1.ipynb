{
 "cells": [
  {
   "cell_type": "code",
   "execution_count": 27,
   "metadata": {},
   "outputs": [
    {
     "name": "stdout",
     "output_type": "stream",
     "text": [
      "⬜️⬜️⬜️⬜️⬜️⬜️⬜️⬜️\n",
      "⬜️⬜️⬜️⬜️⬜️⬜️⬜️⬜️\n",
      "⬜️⬜️⬜️⬜️⬜️⬜️⬜️⬜️\n",
      "⬜️⬜️⬜️⬜️⬜️⬜️⬜️⬜️\n",
      "⬜️⬜️⬜️⬜️⬜️⬜️⬜️⬜️\n",
      "⬜️⬜️⬜️⬜️⬜️⬜️⬜️⬜️\n",
      "⬜️⬜️⬜️⬜️⬜️⬜️⬜️⬜️\n",
      "⬜️⬜️⬜️⬜️⬜️⬜️⬜️⬜️\n"
     ]
    }
   ],
   "source": [
    "empty_cell = \"⬜️\"\n",
    "row = empty_cell * 8\n",
    "board_details = \"\\n\".join([row for _ in range(8)])\n",
    "\n",
    "print(board_details)"
   ]
  },
  {
   "cell_type": "code",
   "execution_count": 35,
   "metadata": {},
   "outputs": [
    {
     "name": "stdout",
     "output_type": "stream",
     "text": [
      "[[('washer', 'red'), ('nut', 'blue')], '⬜️', '⬜️', '⬜️', '⬜️', '⬜️', '⬜️', '⬜️']\n",
      "['⬜️', '⬜️', '⬜️', '⬜️', '⬜️', '⬜️', '⬜️', '⬜️']\n",
      "['⬜️', '⬜️', '⬜️', '⬜️', '⬜️', '⬜️', '⬜️', '⬜️']\n",
      "['⬜️', '⬜️', '⬜️', '⬜️', '⬜️', '⬜️', '⬜️', '⬜️']\n",
      "['⬜️', '⬜️', '⬜️', '⬜️', '⬜️', '⬜️', '⬜️', '⬜️']\n",
      "['⬜️', '⬜️', '⬜️', '⬜️', '⬜️', '⬜️', '⬜️', '⬜️']\n",
      "['⬜️', '⬜️', '⬜️', '⬜️', '⬜️', '⬜️', '⬜️', '⬜️']\n",
      "['⬜️', '⬜️', '⬜️', '⬜️', '⬜️', '⬜️', '⬜️', '⬜️']\n"
     ]
    }
   ],
   "source": [
    "\n",
    "board_details = [[empty_cell for _ in range(8)] for _ in range(8)]\n",
    "board_data = {\"shapes\": [\"washer\", \"nut\"], \"cols\": 8, \"rows\":8, \"x\": [0, 0], \"y\": [0,0], \"colors\": [\"red\", \"blue\"]}\n",
    "\n",
    "for index, shape in enumerate(board_data[\"shapes\"]):\n",
    "    x, y = board_data[\"x\"][index], board_data[\"y\"][index]\n",
    "    color = board_data[\"colors\"][index]\n",
    "\n",
    "    #print(x, y, shape, color)\n",
    "    #print(type(board_details))\n",
    "\n",
    "    cell_location = x + y * board_data[\"cols\"]\n",
    "\n",
    "    if board_details[y][x] == empty_cell:\n",
    "        board_details[y][x] = [(shape, color)]\n",
    "    else:\n",
    "        board_details[y][x].append((shape, color))\n",
    "\n",
    "for row in board_details:\n",
    "    print(row)"
   ]
  },
  {
   "cell_type": "code",
   "execution_count": 1,
   "metadata": {},
   "outputs": [
    {
     "name": "stdout",
     "output_type": "stream",
     "text": [
      "You are an expert annotator who generates sequential instructions for populating a grid with the given shapes.\n",
      "\n",
      "The environment consists of a grid of size 8x8, where unique shapes occupy single cells, with the exception of the \"bridge\" shape, which spans two cells. When placed horizontally, its sides are labeled 'left' and 'right'; vertically, they're 'top' and 'bottom'. For a horizontal bridge, the left and right sides occupy the same row, but adjacent columns. For a vertical bridge, the top and bottom sides are in the same column, but consecutive rows.\n",
      "\n",
      "In the grid, columns align with the x-axis and rows with the y-axis. Python indexing is used to identify each cell. The cell in the top-left corner is in the first row and first column, corresponding to x and y values of 0, 0. Similarly, the top-right corner cell is in the first row and eighth column, with x and y values of 0, 7.\n",
      "\n",
      "- Use the shape name 'bridge-h' if a bridge is placed horizontally\n",
      "- Use the shape name 'bridge-v' if a bridge is placed vertically\n",
      "\n",
      "Each board labeled with a name, for example 'wwn'. Please respond with the sequential instructions under the label Instructions followed by a newline. If multiple shapes are placed at a same location, then they are mentioned in the order of bottom to top. Each location in the grid contains a list of tuples where each tuple indicates the name of the shape and its color as below. Empty locations are indicated as \"⬜️\". Below is an example showcasing the input format.\n",
      "\n",
      "'wwn'\n",
      "[\"⬜️\", '[('washer', 'red')]', '[('washer', 'blue'), ('nut', 'yellow')]', \"⬜️\" ....]\n",
      "[....]\n",
      "[....]\n",
      "\n",
      "Generate the instructions to fill the grid with given shapes, listing all steps in a continuous format without numbering or bullet points. Also ensure to include the name of the board at the end of the instructions. Assume the grid starts empty and only describe actions for placing shapes. Do not generate any other text/explanations.\n",
      "\n",
      "Lets begin\n"
     ]
    }
   ],
   "source": [
    "print(\"You are an expert annotator who generates sequential instructions for populating a grid with the given shapes.\\n\\nThe environment consists of a grid of size 8x8, where unique shapes occupy single cells, with the exception of the \\\"bridge\\\" shape, which spans two cells. When placed horizontally, its sides are labeled 'left' and 'right'; vertically, they're 'top' and 'bottom'. For a horizontal bridge, the left and right sides occupy the same row, but adjacent columns. For a vertical bridge, the top and bottom sides are in the same column, but consecutive rows.\\n\\nIn the grid, columns align with the x-axis and rows with the y-axis. Python indexing is used to identify each cell. The cell in the top-left corner is in the first row and first column, corresponding to x and y values of 0, 0. Similarly, the top-right corner cell is in the first row and eighth column, with x and y values of 0, 7.\\n\\n- Use the shape name 'bridge-h' if a bridge is placed horizontally\\n- Use the shape name 'bridge-v' if a bridge is placed vertically\\n\\nEach board labeled with a name, for example 'wwn'. Please respond with the sequential instructions under the label Instructions followed by a newline. If multiple shapes are placed at a same location, then they are mentioned in the order of bottom to top. Each location in the grid contains a list of tuples where each tuple indicates the name of the shape and its color as below. Empty locations are indicated as \\\"⬜️\\\". Below is an example showcasing the input format.\\n\\n'wwn'\\n[\\\"⬜️\\\", '[('washer', 'red')]', '[('washer', 'blue'), ('nut', 'yellow')]', \\\"⬜️\\\" ....]\\n[....]\\n[....]\\n\\nGenerate the instructions to fill the grid with given shapes, listing all steps in a continuous format without numbering or bullet points. Also ensure to include the name of the board at the end of the instructions. Assume the grid starts empty and only describe actions for placing shapes. Do not generate any other text/explanations.\\n\\nLets begin\")"
   ]
  },
  {
   "cell_type": "code",
   "execution_count": 2,
   "metadata": {},
   "outputs": [
    {
     "name": "stdout",
     "output_type": "stream",
     "text": [
      "You are a helpful assistant who is designed to interpret and translate natural language instructions into python executable code snippets.\n",
      "\n",
      "The environment consists of a grid of size 8x8, where unique shapes occupy single cells, with the exception of the \"bridge\" shape, which spans two cells. When placed horizontally, its sides are labeled 'left' and 'right'; vertically, they're 'top' and 'bottom'. For a horizontal bridge, the left and right sides occupy the same row, but adjacent columns. For a vertical bridge, the top and bottom sides are in the same column, but consecutive rows.\n",
      "\n",
      "In the grid, columns align with the x-axis and rows with the y-axis. Python indexing is used to identify each cell. The cell in the top-left corner is in the first row and first column, corresponding to x and y values of 0, 0. Similarly, the top-right corner cell is in the first row and eighth column, with x and y values of 0, 7.\n",
      "\n",
      "- Use the shape name 'bridge-h' if a bridge is placed horizontally\n",
      "- Use the shape name 'bridge-v' if a bridge is placed vertically\n",
      "\n",
      "The following functions are already defined; therefore, do not generate additional code for it\n",
      "- Use `put(board: np.ndarray, shape: string, color: string, x: int, y: int) to place a shape on the board\n",
      "\n",
      "\n",
      "For each instruction labeled $INSTRUCTION_LABEL, please respond with code under the label $OUTPUT_LABEL_HORDER followed by a newline and usage for the function under the label $OUTPUT_LABEL_HORDER_USAGE followed by a newline.\n",
      "\n",
      "Instruction\n",
      "place a blue bridge horizontally in the 4th row, 1st column. place a green washer in the 4th row, 1st column. This is bw.\n",
      "\n",
      "Function\n",
      "def bw(board, colors, x, y):\n",
      "    shapes = ['bridge-h', 'washer']\n",
      "    for shape, color, dx, dy in zip(shapes, colors, [0, 0], [0, 0]):\n",
      "            put(board, shape, color, x + dx, y + dy)\n",
      "\n",
      "Usage\n",
      "bw(board, ('blue', 'green'), 3, 0)\n",
      "\n",
      "\n",
      "Do not generate any other text/explanations.\n",
      "\n",
      "The order of colors, x, y matters, as these are assigned to the shapes in the same sequence.\n",
      "Ensure the response can be executed by Python `exec()`, e.g.: no trailing commas, no periods, etc.\n",
      "\n",
      "Lets begin\n",
      "\n"
     ]
    }
   ],
   "source": [
    "print(\"You are a helpful assistant who is designed to interpret and translate natural language instructions into python executable code snippets.\\n\\nThe environment consists of a grid of size 8x8, where unique shapes occupy single cells, with the exception of the \\\"bridge\\\" shape, which spans two cells. When placed horizontally, its sides are labeled 'left' and 'right'; vertically, they're 'top' and 'bottom'. For a horizontal bridge, the left and right sides occupy the same row, but adjacent columns. For a vertical bridge, the top and bottom sides are in the same column, but consecutive rows.\\n\\nIn the grid, columns align with the x-axis and rows with the y-axis. Python indexing is used to identify each cell. The cell in the top-left corner is in the first row and first column, corresponding to x and y values of 0, 0. Similarly, the top-right corner cell is in the first row and eighth column, with x and y values of 0, 7.\\n\\n- Use the shape name 'bridge-h' if a bridge is placed horizontally\\n- Use the shape name 'bridge-v' if a bridge is placed vertically\\n\\nThe following functions are already defined; therefore, do not generate additional code for it\\n- Use `put(board: np.ndarray, shape: string, color: string, x: int, y: int) to place a shape on the board\\n\\n\\nFor each instruction labeled $INSTRUCTION_LABEL, please respond with code under the label $OUTPUT_LABEL_HORDER followed by a newline and usage for the function under the label $OUTPUT_LABEL_HORDER_USAGE followed by a newline.\\n\\nInstruction\\nplace a blue bridge horizontally in the 4th row, 1st column. place a green washer in the 4th row, 1st column. This is bw.\\n\\nFunction\\ndef bw(board, colors, x, y):\\n    shapes = ['bridge-h', 'washer']\\n    for shape, color, dx, dy in zip(shapes, colors, [0, 0], [0, 0]):\\n            put(board, shape, color, x + dx, y + dy)\\n\\nUsage\\nbw(board, ('blue', 'green'), 3, 0)\\n\\n\\nDo not generate any other text/explanations.\\n\\nThe order of colors, x, y matters, as these are assigned to the shapes in the same sequence.\\nEnsure the response can be executed by Python `exec()`, e.g.: no trailing commas, no periods, etc.\\n\\nLets begin\\n\")"
   ]
  },
  {
   "cell_type": "code",
   "execution_count": 3,
   "metadata": {},
   "outputs": [
    {
     "name": "stdout",
     "output_type": "stream",
     "text": [
      "You are a helpful assistant who is designed to interpret and translate natural language instructions into python executable code snippets.\n",
      "\n",
      "The environment consists of a grid of size 8x8, where unique shapes occupy single cells, with the exception of the \"bridge\" shape, which spans two cells. When placed horizontally, its sides are labeled 'left' and 'right'; vertically, they're 'top' and 'bottom'. For a horizontal bridge, the left and right sides occupy the same row, but adjacent columns. For a vertical bridge, the top and bottom sides are in the same column, but consecutive rows.\n",
      "\n",
      "In the grid, columns align with the x-axis and rows with the y-axis. Python indexing is used to identify each cell. The cell in the top-left corner is in the first row and first column, corresponding to x and y values of 0, 0. Similarly, the top-right corner cell is in the first row and eighth column, with x and y values of 0, 7.\n",
      "\n",
      "- Use the shape name 'bridge-h' if a bridge is placed horizontally\n",
      "- Use the shape name 'bridge-v' if a bridge is placed vertically\n",
      "\n",
      "The following functions are already defined; therefore, do not generate additional code for it\n",
      "- Use `put(board: np.ndarray, shape: string, color: string, x: int, y: int) to place a shape on the board\n",
      "\n",
      "\n",
      "For each instruction labeled Instruction, please respond with code under the label Function followed by a newline and usage for the function under the label Usage followed by a newline.\n",
      "\n",
      "Instruction\n",
      "place a blue nut in the 1st row, 3rd column. place a red washer in the 1st row, 4th column. place a green bridge horizontally in the 1st row, 3rd column. place a yellow washer in the 1st row, 3rd column. place a red screw in the 1st row, 3rd column. This is nwbws.\n",
      "\n",
      "Function\n",
      "def nwbws(board, colors, x, y):\n",
      "    shapes = ['nut', 'washer', 'bridge-h', 'washer', 'screw']\n",
      "    for shape, color, dx, dy in zip(shapes, colors, [0, 0, 0, 0, 0], [0, 1, 0, 0, 0]):\n",
      "            put(board, shape, color, x + dx, y + dy)\n",
      "\n",
      "Usage\n",
      "nwbws(board, ('blue', 'red', 'green', 'yellow', 'red'), 0, 2)\n",
      "\n",
      "\n",
      "Do not generate any other text/explanations.\n",
      "\n",
      "The order of colors, x, y matters, as these are assigned to the shapes in the same sequence.\n",
      "Ensure the response can be executed by Python `exec()`, e.g.: no trailing commas, no periods, etc.\n",
      "\n",
      "Lets begin\n",
      "\n"
     ]
    }
   ],
   "source": [
    "print(\"You are a helpful assistant who is designed to interpret and translate natural language instructions into python executable code snippets.\\n\\nThe environment consists of a grid of size 8x8, where unique shapes occupy single cells, with the exception of the \\\"bridge\\\" shape, which spans two cells. When placed horizontally, its sides are labeled 'left' and 'right'; vertically, they're 'top' and 'bottom'. For a horizontal bridge, the left and right sides occupy the same row, but adjacent columns. For a vertical bridge, the top and bottom sides are in the same column, but consecutive rows.\\n\\nIn the grid, columns align with the x-axis and rows with the y-axis. Python indexing is used to identify each cell. The cell in the top-left corner is in the first row and first column, corresponding to x and y values of 0, 0. Similarly, the top-right corner cell is in the first row and eighth column, with x and y values of 0, 7.\\n\\n- Use the shape name 'bridge-h' if a bridge is placed horizontally\\n- Use the shape name 'bridge-v' if a bridge is placed vertically\\n\\nThe following functions are already defined; therefore, do not generate additional code for it\\n- Use `put(board: np.ndarray, shape: string, color: string, x: int, y: int) to place a shape on the board\\n\\n\\nFor each instruction labeled Instruction, please respond with code under the label Function followed by a newline and usage for the function under the label Usage followed by a newline.\\n\\nInstruction\\nplace a blue nut in the 1st row, 3rd column. place a red washer in the 1st row, 4th column. place a green bridge horizontally in the 1st row, 3rd column. place a yellow washer in the 1st row, 3rd column. place a red screw in the 1st row, 3rd column. This is nwbws.\\n\\nFunction\\ndef nwbws(board, colors, x, y):\\n    shapes = ['nut', 'washer', 'bridge-h', 'washer', 'screw']\\n    for shape, color, dx, dy in zip(shapes, colors, [0, 0, 0, 0, 0], [0, 1, 0, 0, 0]):\\n            put(board, shape, color, x + dx, y + dy)\\n\\nUsage\\nnwbws(board, ('blue', 'red', 'green', 'yellow', 'red'), 0, 2)\\n\\n\\nDo not generate any other text/explanations.\\n\\nThe order of colors, x, y matters, as these are assigned to the shapes in the same sequence.\\nEnsure the response can be executed by Python `exec()`, e.g.: no trailing commas, no periods, etc.\\n\\nLets begin\\n\")"
   ]
  },
  {
   "cell_type": "code",
   "execution_count": null,
   "metadata": {},
   "outputs": [],
   "source": []
  }
 ],
 "metadata": {
  "kernelspec": {
   "display_name": "Python 3",
   "language": "python",
   "name": "python3"
  },
  "language_info": {
   "codemirror_mode": {
    "name": "ipython",
    "version": 3
   },
   "file_extension": ".py",
   "mimetype": "text/x-python",
   "name": "python",
   "nbconvert_exporter": "python",
   "pygments_lexer": "ipython3",
   "version": "3.9.6"
  }
 },
 "nbformat": 4,
 "nbformat_minor": 2
}
