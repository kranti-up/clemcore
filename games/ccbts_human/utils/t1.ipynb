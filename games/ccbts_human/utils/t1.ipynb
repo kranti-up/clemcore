{
 "cells": [
  {
   "cell_type": "code",
   "execution_count": 7,
   "metadata": {},
   "outputs": [
    {
     "name": "stdout",
     "output_type": "stream",
     "text": [
      "<class 'dict'> {'exact_match': Counter(), 'exec_score': Counter(), 'cb_score': Counter()}\n"
     ]
    },
    {
     "ename": "AssertionError",
     "evalue": "Argument must be a Counter object",
     "output_type": "error",
     "traceback": [
      "\u001b[0;31m---------------------------------------------------------------------------\u001b[0m",
      "\u001b[0;31mAssertionError\u001b[0m                            Traceback (most recent call last)",
      "\u001b[0;32m/tmp/ipykernel_68051/3077527075.py\u001b[0m in \u001b[0;36m<module>\u001b[0;34m\u001b[0m\n\u001b[1;32m     13\u001b[0m })\n\u001b[1;32m     14\u001b[0m \u001b[0;34m\u001b[0m\u001b[0m\n\u001b[0;32m---> 15\u001b[0;31m \u001b[0mcompute\u001b[0m\u001b[0;34m(\u001b[0m\u001b[0mk1\u001b[0m\u001b[0;34m[\u001b[0m\u001b[0;34m\"exact_match\"\u001b[0m\u001b[0;34m]\u001b[0m\u001b[0;34m)\u001b[0m  \u001b[0;31m# Pass the 'exact_match' Counter to the compute function\u001b[0m\u001b[0;34m\u001b[0m\u001b[0;34m\u001b[0m\u001b[0m\n\u001b[0m",
      "\u001b[0;32m/tmp/ipykernel_68051/3077527075.py\u001b[0m in \u001b[0;36mcompute\u001b[0;34m(counter)\u001b[0m\n\u001b[1;32m      3\u001b[0m \u001b[0;32mdef\u001b[0m \u001b[0mcompute\u001b[0m\u001b[0;34m(\u001b[0m\u001b[0mcounter\u001b[0m\u001b[0;34m)\u001b[0m\u001b[0;34m:\u001b[0m\u001b[0;34m\u001b[0m\u001b[0;34m\u001b[0m\u001b[0m\n\u001b[1;32m      4\u001b[0m     \u001b[0mprint\u001b[0m\u001b[0;34m(\u001b[0m\u001b[0mtype\u001b[0m\u001b[0;34m(\u001b[0m\u001b[0mcounter\u001b[0m\u001b[0;34m)\u001b[0m\u001b[0;34m,\u001b[0m \u001b[0mcounter\u001b[0m\u001b[0;34m)\u001b[0m\u001b[0;34m\u001b[0m\u001b[0;34m\u001b[0m\u001b[0m\n\u001b[0;32m----> 5\u001b[0;31m     \u001b[0;32massert\u001b[0m \u001b[0misinstance\u001b[0m\u001b[0;34m(\u001b[0m\u001b[0mcounter\u001b[0m\u001b[0;34m,\u001b[0m \u001b[0mCounter\u001b[0m\u001b[0;34m)\u001b[0m\u001b[0;34m,\u001b[0m \u001b[0;34m\"Argument must be a Counter object\"\u001b[0m\u001b[0;34m\u001b[0m\u001b[0;34m\u001b[0m\u001b[0m\n\u001b[0m\u001b[1;32m      6\u001b[0m \u001b[0;34m\u001b[0m\u001b[0m\n\u001b[1;32m      7\u001b[0m     \u001b[0mcounter\u001b[0m\u001b[0;34m[\u001b[0m\u001b[0;34m\"success\"\u001b[0m\u001b[0;34m]\u001b[0m \u001b[0;34m+=\u001b[0m \u001b[0;36m1\u001b[0m  \u001b[0;31m# This should not raise a KeyError\u001b[0m\u001b[0;34m\u001b[0m\u001b[0;34m\u001b[0m\u001b[0m\n",
      "\u001b[0;31mAssertionError\u001b[0m: Argument must be a Counter object"
     ]
    }
   ],
   "source": [
    "from collections import defaultdict, Counter\n",
    "\n",
    "def compute(counter):\n",
    "    print(type(counter), counter)\n",
    "    assert isinstance(counter, Counter), \"Argument must be a Counter object\"\n",
    "        \n",
    "    counter[\"success\"] += 1  # This should not raise a KeyError\n",
    "\n",
    "k1 = defaultdict(lambda: {\n",
    "    \"exact_match\": Counter(), \n",
    "    \"exec_score\": Counter(), \n",
    "    \"cb_score\": Counter()\n",
    "})\n",
    "\n",
    "compute(k1[\"exact_match\"])  # Pass the 'exact_match' Counter to the compute function\n"
   ]
  },
  {
   "cell_type": "code",
   "execution_count": 1,
   "metadata": {},
   "outputs": [
    {
     "name": "stdout",
     "output_type": "stream",
     "text": [
      "Lists are not equal\n"
     ]
    }
   ],
   "source": [
    "l1 = [1,2,3,4]\n",
    "l2 = [4,2,1,3]\n",
    "\n",
    "if l1 != l2:\n",
    "    print(\"Lists are not equal\")"
   ]
  },
  {
   "cell_type": "code",
   "execution_count": 1,
   "metadata": {},
   "outputs": [
    {
     "name": "stdout",
     "output_type": "stream",
     "text": [
      "You are a helpful assistant who is designed to interpret and translate natural language instructions into python executable code snippets.\n",
      "\n",
      "The environment consists of a grid of size 8x8, where unique shapes occupy single cells, with the exception of the \"bridge\" shape, which spans two cells. When placed horizontally, its sides are labeled 'left' and 'right'; vertically, they're 'top' and 'bottom'. For a horizontal bridge, the left and right sides occupy the same row, but adjacent columns. For a vertical bridge, the top and bottom sides are in the same column, but consecutive rows.\n",
      "\n",
      "In the grid, columns align with the x-axis and rows with the y-axis. Python indexing is used to identify each cell. The cell in the top-left corner is in the first row and first column, corresponding to x and y values of 0, 0. Similarly, the top-right corner cell is in the first row and eighth column, with x and y values of 0, 7.\n",
      "\n",
      "- Use the shape name 'bridge-h' if a bridge is placed horizontally\n",
      "- Use the shape name 'bridge-v' if a bridge is placed vertically\n",
      "\n",
      "The following functions are already defined; therefore, do not generate additional code for it\n",
      "- Use `put(board: np.ndarray, shape: string, color: string, x: int, y: int) to place a shape on the board\n",
      "\n",
      "For each instruction labeled Instruction please respond with code under the label Output followed by a newline.\n",
      "\n",
      "Instruction\n",
      "place a red washer in the 1st row, 7th column\n",
      "\n",
      "Output\n",
      "put(board, shape='washer', color='red', x=0, y=6)\n",
      "\n",
      "Instruction\n",
      "place a blue nut in the 3rd row, 1st column\n",
      "\n",
      "Output\n",
      "put(board, shape='nut', color='blue', x=2, y=0)\n",
      "\n",
      "Instruction\n",
      "place a green screw in the 5th row, 7th column\n",
      "\n",
      "Output\n",
      "put(board, shape='screw', color='green', x=4, y=6)\n",
      "\n",
      "Instruction\n",
      "place a yellow bridge horizontally in the 7th row, 5th column\n",
      "\n",
      "Output\n",
      "put(board, shape='bridge-h', color='yellow', x=6, y=4)\n",
      "\n",
      "Instruction\n",
      "place a red bridge vertically in the 4th row, 3rd column\n",
      "\n",
      "Output\n",
      "put(board, shape='bridge-v', color='red', x=3, y=2)\n",
      "\n",
      "Do not generate any other text/explanations.\n",
      "\n",
      "Ensure the response can be executed by Python `exec()`, e.g.: no trailing commas, no periods, etc.\n",
      "\n",
      "Lets begin\n",
      "\n"
     ]
    }
   ],
   "source": [
    "print(\"You are a helpful assistant who is designed to interpret and translate natural language instructions into python executable code snippets.\\n\\nThe environment consists of a grid of size 8x8, where unique shapes occupy single cells, with the exception of the \\\"bridge\\\" shape, which spans two cells. When placed horizontally, its sides are labeled 'left' and 'right'; vertically, they're 'top' and 'bottom'. For a horizontal bridge, the left and right sides occupy the same row, but adjacent columns. For a vertical bridge, the top and bottom sides are in the same column, but consecutive rows.\\n\\nIn the grid, columns align with the x-axis and rows with the y-axis. Python indexing is used to identify each cell. The cell in the top-left corner is in the first row and first column, corresponding to x and y values of 0, 0. Similarly, the top-right corner cell is in the first row and eighth column, with x and y values of 0, 7.\\n\\n- Use the shape name 'bridge-h' if a bridge is placed horizontally\\n- Use the shape name 'bridge-v' if a bridge is placed vertically\\n\\nThe following functions are already defined; therefore, do not generate additional code for it\\n- Use `put(board: np.ndarray, shape: string, color: string, x: int, y: int) to place a shape on the board\\n\\nFor each instruction labeled Instruction please respond with code under the label Output followed by a newline.\\n\\nInstruction\\nplace a red washer in the 1st row, 7th column\\n\\nOutput\\nput(board, shape='washer', color='red', x=0, y=6)\\n\\nInstruction\\nplace a blue nut in the 3rd row, 1st column\\n\\nOutput\\nput(board, shape='nut', color='blue', x=2, y=0)\\n\\nInstruction\\nplace a green screw in the 5th row, 7th column\\n\\nOutput\\nput(board, shape='screw', color='green', x=4, y=6)\\n\\nInstruction\\nplace a yellow bridge horizontally in the 7th row, 5th column\\n\\nOutput\\nput(board, shape='bridge-h', color='yellow', x=6, y=4)\\n\\nInstruction\\nplace a red bridge vertically in the 4th row, 3rd column\\n\\nOutput\\nput(board, shape='bridge-v', color='red', x=3, y=2)\\n\\nDo not generate any other text/explanations.\\n\\nEnsure the response can be executed by Python `exec()`, e.g.: no trailing commas, no periods, etc.\\n\\nLets begin\\n\")"
   ]
  },
  {
   "cell_type": "code",
   "execution_count": 2,
   "metadata": {},
   "outputs": [
    {
     "name": "stdout",
     "output_type": "stream",
     "text": [
      "You are a helpful assistant who is designed to interpret and translate natural language instructions into python executable code snippets.\n",
      "\n",
      "The environment consists of a grid of size 8x8, where unique shapes occupy single cells, with the exception of the \"bridge\" shape, which spans two cells. When placed horizontally, its sides are labeled 'left' and 'right'; vertically, they're 'top' and 'bottom'. For a horizontal bridge, the left and right sides occupy the same row, but adjacent columns. For a vertical bridge, the top and bottom sides are in the same column, but consecutive rows.\n",
      "\n",
      "In the grid, columns align with the x-axis and rows with the y-axis. Python indexing is used to identify each cell. The cell in the top-left corner is in the first row and first column, corresponding to x and y values of 0, 0. Similarly, the top-right corner cell is in the first row and eighth column, with x and y values of 0, 7.\n",
      "\n",
      "- Use the shape name 'bridge-h' if a bridge is placed horizontally\n",
      "- Use the shape name 'bridge-v' if a bridge is placed vertically\n",
      "\n",
      "The following functions are already defined; therefore, do not generate additional code for it\n",
      "- Use `put(board: np.ndarray, shape: string, color: string, x: int, y: int) to place a shape on the board\n",
      "\n",
      "\n",
      "For each instruction labeled Instruction, please respond with code under the label Function followed by a newline and usage for the function under the label Usage followed by a newline.\n",
      "\n",
      "Instruction\n",
      "stack the red washer and the blue nut in the 2nd row, 4th column. This is n_washer.\n",
      "\n",
      "Function\n",
      "def n_washer (board, colors, x, y):\\n\\n    put(board, \\\"washer\\\", colors[0], x, y)\\n    put(board, \\\"nut\\\", colors[1], x, y)\\n    \\n\\n    return board\"\n",
      "\n",
      "Usage\n",
      "board = n_washer(board, ['red', 'blue'], 1, 3)\n",
      "\n",
      "Instruction\n",
      "stack the blue washer and the green screw in the 4th row, 6th column. This is s_washer.\n",
      "\n",
      "Function\n",
      "def s_washer (board, colors, x, y):\\n\\n    put(board, \\\"washer\\\", colors[0], x, y)\\n    put(board, \\\"screw\\\", colors[1], x, y)\\n    \\n\\n    return board\"\n",
      "\n",
      "Usage\n",
      "board = s_washer(board, ['blue', 'green'], 3, 5)\n",
      "\n",
      "\n",
      "Instruction\n",
      "stack the green nut and the yellow washer in the 4th row, 1st column. This is w_nut.\n",
      "\n",
      "Function\n",
      "def w_nut (board, colors, x, y):\\n\\n    put(board, \\\"nut\\\", colors[0], x, y)\\n    put(board, \\\"washer\\\", colors[1], x, y)\\n    \\n\\n    return board\"\n",
      "\n",
      "Usage\n",
      "board = w_nut(board, ['green', 'yellow'], 3, 0)\n",
      "\n",
      "\n",
      "Instruction\n",
      "stack the red nut and the blue screw in the 6th row, 3rd column. This is s_nut.\n",
      "\n",
      "Function\n",
      "def s_nut (board, colors, x, y):\\n\\n    put(board, \\\"nut\\\", colors[0], x, y)\\n    put(board, \\\"screw\\\", colors[1], x, y)\\n    \\n\\n    return board\n",
      "\n",
      "Usage\n",
      "board = s_nut(board, ['red', 'blue'], 5, 2)\n",
      "\n",
      "Instruction\n",
      "stack the green washer on the bottom side of the blue vertical bridge in the 7th row, 8th column. This is k1_bridge.\n",
      "\n",
      "Function\n",
      "def k1_bridge (board, colors, x, y):\\n\\n    put(board, \\\"bridge-v\\\", colors[0], x, y)\\n    put(board, \\\"washer\\\", colors[1], x+1, y)\\n    \\n\\n    return board\n",
      "\n",
      "Usage\n",
      "board = k1_bridge(board, ['blue', 'green'], 6, 7)\n",
      "\n",
      "\n",
      "Instruction\n",
      "place a red vertical bridge in the 7th row, 5th column. stack yellow washers on both sides. This is k2_bridge.\n",
      "\n",
      "Function\n",
      "def k2_bridge (board, colors, x, y):\\n\\n    put(board, \\\"bridge-v\\\", colors[0], x, y)\\n    put(board, \\\"washer\\\", colors[1], x, y)\\n    put(board, \\\"washer\\\", colors[1], x+1, y)\\n\\n    return board\n",
      "\n",
      "Usage\n",
      "board = k2_bridge(board, ['red', 'yellow'], 6, 4)\n",
      "\n",
      "Instruction\n",
      "stack the green nut on the right side of the red horizontal bridge in the 3rd row, 6th column. This is t1_bridge.\n",
      "\n",
      "Function\n",
      "def t1_bridge (board, colors, x, y):\\n\\n    put(board, \\\"bridge-h\\\", colors[0], x, y)\\n    put(board, \\\"nut\\\", colors[1], x, y+1)\\n    \\n\\n    return board\n",
      "\n",
      "Usage\n",
      "board = t1_bridge(board, ['red', 'green'], 2, 5)\n",
      "\n",
      "\n",
      "Instruction\n",
      "place a blue horizontal bridge in the 5th row, 3rd column. stack green nuts on both sides. This is t2_bridge.\n",
      "\n",
      "Function\n",
      "def t2_bridge (board, colors, x, y):\\n\\n    put(board, \\\"bridge-h\\\", colors[0], x, y)\\n    put(board, \\\"nut\\\", colors[1], x, y)\\n    put(board, \\\"nut\\\", colors[1], x, y+1)\\n    \\n\\n    return board\n",
      "\n",
      "Usage\n",
      "board = t2_bridge(board, ['blue', 'green'], 4, 2)\n",
      "\n",
      "\n",
      "Instruction\n",
      "stack the green screw on the top side of the blue vertical bridge in the 6th row, 2nd column. This is p1_bridge.\n",
      "\n",
      "Function\n",
      "def p1_bridge (board, colors, x, y):\\n\\n    put(board, \\\"bridge-v\\\", colors[0], x, y)\\n    put(board, \\\"screw\\\", colors[1], x, y)\\n    \\n\\n    return board\n",
      "\n",
      "Usage\n",
      "board = p1_bridge(board, ['blue', 'green'], 5, 1)\n",
      "\n",
      "Instruction\n",
      "place a yellow horizontal bridge in the 6th row, 3rd column. stack blue screws on both sides. This is p2_bridge.\n",
      "\n",
      "Function\n",
      "def p2_bridge (board, colors, x, y):\\n\\n    put(board, \\\"bridge-h\\\", colors[0], x, y)\\n    put(board, \\\"screw\\\", colors[1], x, y)\\n    put(board, \\\"screw\\\", colors[1], x, y+1)\\n    \\n\\n    return board\n",
      "\n",
      "Usage\n",
      "board = p2_bridge(board, ['yellow', 'blue'], 5, 2)\n",
      "\n",
      "Do not generate any other text/explanations.\n",
      "\n",
      "The order of colors, x, y matters, as these are assigned to the shapes in the same sequence.\n",
      "Ensure the response can be executed by Python `exec()`, e.g.: no trailing commas, no periods, etc.\n",
      "\n",
      "Lets begin\n",
      "\n"
     ]
    }
   ],
   "source": [
    "print(\"You are a helpful assistant who is designed to interpret and translate natural language instructions into python executable code snippets.\\n\\nThe environment consists of a grid of size 8x8, where unique shapes occupy single cells, with the exception of the \\\"bridge\\\" shape, which spans two cells. When placed horizontally, its sides are labeled 'left' and 'right'; vertically, they're 'top' and 'bottom'. For a horizontal bridge, the left and right sides occupy the same row, but adjacent columns. For a vertical bridge, the top and bottom sides are in the same column, but consecutive rows.\\n\\nIn the grid, columns align with the x-axis and rows with the y-axis. Python indexing is used to identify each cell. The cell in the top-left corner is in the first row and first column, corresponding to x and y values of 0, 0. Similarly, the top-right corner cell is in the first row and eighth column, with x and y values of 0, 7.\\n\\n- Use the shape name 'bridge-h' if a bridge is placed horizontally\\n- Use the shape name 'bridge-v' if a bridge is placed vertically\\n\\nThe following functions are already defined; therefore, do not generate additional code for it\\n- Use `put(board: np.ndarray, shape: string, color: string, x: int, y: int) to place a shape on the board\\n\\n\\nFor each instruction labeled Instruction, please respond with code under the label Function followed by a newline and usage for the function under the label Usage followed by a newline.\\n\\nInstruction\\nstack the red washer and the blue nut in the 2nd row, 4th column. This is n_washer.\\n\\nFunction\\ndef n_washer (board, colors, x, y):\\\\n\\\\n    put(board, \\\\\\\"washer\\\\\\\", colors[0], x, y)\\\\n    put(board, \\\\\\\"nut\\\\\\\", colors[1], x, y)\\\\n    \\\\n\\\\n    return board\\\"\\n\\nUsage\\nboard = n_washer(board, ['red', 'blue'], 1, 3)\\n\\nInstruction\\nstack the blue washer and the green screw in the 4th row, 6th column. This is s_washer.\\n\\nFunction\\ndef s_washer (board, colors, x, y):\\\\n\\\\n    put(board, \\\\\\\"washer\\\\\\\", colors[0], x, y)\\\\n    put(board, \\\\\\\"screw\\\\\\\", colors[1], x, y)\\\\n    \\\\n\\\\n    return board\\\"\\n\\nUsage\\nboard = s_washer(board, ['blue', 'green'], 3, 5)\\n\\n\\nInstruction\\nstack the green nut and the yellow washer in the 4th row, 1st column. This is w_nut.\\n\\nFunction\\ndef w_nut (board, colors, x, y):\\\\n\\\\n    put(board, \\\\\\\"nut\\\\\\\", colors[0], x, y)\\\\n    put(board, \\\\\\\"washer\\\\\\\", colors[1], x, y)\\\\n    \\\\n\\\\n    return board\\\"\\n\\nUsage\\nboard = w_nut(board, ['green', 'yellow'], 3, 0)\\n\\n\\nInstruction\\nstack the red nut and the blue screw in the 6th row, 3rd column. This is s_nut.\\n\\nFunction\\ndef s_nut (board, colors, x, y):\\\\n\\\\n    put(board, \\\\\\\"nut\\\\\\\", colors[0], x, y)\\\\n    put(board, \\\\\\\"screw\\\\\\\", colors[1], x, y)\\\\n    \\\\n\\\\n    return board\\n\\nUsage\\nboard = s_nut(board, ['red', 'blue'], 5, 2)\\n\\nInstruction\\nstack the green washer on the bottom side of the blue vertical bridge in the 7th row, 8th column. This is k1_bridge.\\n\\nFunction\\ndef k1_bridge (board, colors, x, y):\\\\n\\\\n    put(board, \\\\\\\"bridge-v\\\\\\\", colors[0], x, y)\\\\n    put(board, \\\\\\\"washer\\\\\\\", colors[1], x+1, y)\\\\n    \\\\n\\\\n    return board\\n\\nUsage\\nboard = k1_bridge(board, ['blue', 'green'], 6, 7)\\n\\n\\nInstruction\\nplace a red vertical bridge in the 7th row, 5th column. stack yellow washers on both sides. This is k2_bridge.\\n\\nFunction\\ndef k2_bridge (board, colors, x, y):\\\\n\\\\n    put(board, \\\\\\\"bridge-v\\\\\\\", colors[0], x, y)\\\\n    put(board, \\\\\\\"washer\\\\\\\", colors[1], x, y)\\\\n    put(board, \\\\\\\"washer\\\\\\\", colors[1], x+1, y)\\\\n\\\\n    return board\\n\\nUsage\\nboard = k2_bridge(board, ['red', 'yellow'], 6, 4)\\n\\nInstruction\\nstack the green nut on the right side of the red horizontal bridge in the 3rd row, 6th column. This is t1_bridge.\\n\\nFunction\\ndef t1_bridge (board, colors, x, y):\\\\n\\\\n    put(board, \\\\\\\"bridge-h\\\\\\\", colors[0], x, y)\\\\n    put(board, \\\\\\\"nut\\\\\\\", colors[1], x, y+1)\\\\n    \\\\n\\\\n    return board\\n\\nUsage\\nboard = t1_bridge(board, ['red', 'green'], 2, 5)\\n\\n\\nInstruction\\nplace a blue horizontal bridge in the 5th row, 3rd column. stack green nuts on both sides. This is t2_bridge.\\n\\nFunction\\ndef t2_bridge (board, colors, x, y):\\\\n\\\\n    put(board, \\\\\\\"bridge-h\\\\\\\", colors[0], x, y)\\\\n    put(board, \\\\\\\"nut\\\\\\\", colors[1], x, y)\\\\n    put(board, \\\\\\\"nut\\\\\\\", colors[1], x, y+1)\\\\n    \\\\n\\\\n    return board\\n\\nUsage\\nboard = t2_bridge(board, ['blue', 'green'], 4, 2)\\n\\n\\nInstruction\\nstack the green screw on the top side of the blue vertical bridge in the 6th row, 2nd column. This is p1_bridge.\\n\\nFunction\\ndef p1_bridge (board, colors, x, y):\\\\n\\\\n    put(board, \\\\\\\"bridge-v\\\\\\\", colors[0], x, y)\\\\n    put(board, \\\\\\\"screw\\\\\\\", colors[1], x, y)\\\\n    \\\\n\\\\n    return board\\n\\nUsage\\nboard = p1_bridge(board, ['blue', 'green'], 5, 1)\\n\\nInstruction\\nplace a yellow horizontal bridge in the 6th row, 3rd column. stack blue screws on both sides. This is p2_bridge.\\n\\nFunction\\ndef p2_bridge (board, colors, x, y):\\\\n\\\\n    put(board, \\\\\\\"bridge-h\\\\\\\", colors[0], x, y)\\\\n    put(board, \\\\\\\"screw\\\\\\\", colors[1], x, y)\\\\n    put(board, \\\\\\\"screw\\\\\\\", colors[1], x, y+1)\\\\n    \\\\n\\\\n    return board\\n\\nUsage\\nboard = p2_bridge(board, ['yellow', 'blue'], 5, 2)\\n\\nDo not generate any other text/explanations.\\n\\nThe order of colors, x, y matters, as these are assigned to the shapes in the same sequence.\\nEnsure the response can be executed by Python `exec()`, e.g.: no trailing commas, no periods, etc.\\n\\nLets begin\\n\")"
   ]
  },
  {
   "cell_type": "code",
   "execution_count": 18,
   "metadata": {},
   "outputs": [],
   "source": [
    "from coco import init_board, put, plot_board\n",
    "board = init_board(8,8)\n",
    "exec(\"def p2_bridge (board, colors, x, y):\\n\\n    put(board, \\\"bridge-h\\\", colors[0], x, y)\\n    put(board, \\\"screw\\\", colors[1], x, y)\\n    put(board, \\\"screw\\\", colors[1], x, y+1)\\n    \\n\\n    return board \\nboard = p2_bridge(board, ['yellow', 'blue'], 5, 2)\")\n",
    "plot_board(board, \"t12.png\")"
   ]
  },
  {
   "cell_type": "code",
   "execution_count": 19,
   "metadata": {},
   "outputs": [],
   "source": [
    "\n",
    "board = init_board(8,8)\n",
    "#instruction = \"put(board, shape='nut', color='blue', x=2, y=0)\"\n",
    "#exec(instruction)\n",
    "put(board, shape='nut', color='blue', x=2, y=0)\n",
    "plot_board(board)"
   ]
  },
  {
   "cell_type": "code",
   "execution_count": 1,
   "metadata": {},
   "outputs": [
    {
     "name": "stdout",
     "output_type": "stream",
     "text": [
      "Function\n",
      "def put (board, shape, color, x, y):\n",
      "\n",
      "    put(board, \"washer\", color, x, y)\n",
      "    \n",
      "\n",
      "    return board\n",
      "\n",
      "\n",
      " Usage\n",
      "\n",
      "board = put(board, 'washer', 'red', 4, 6) Instruction: stack the blue washer on the top side of the green vertical bridge in the 4th row, 4th column. This is p1_bridge.\n",
      " Function\n",
      "def p1_bridge (board, colors, x, y):\n",
      "\n",
      "    put(board, \"bridge-v\", colors[0], x, y)\n",
      "    put(board, \"washer\", colors[1], x, y)\n",
      "    \n",
      "\n",
      "    return board\n",
      "\n",
      "\n",
      " Usage\n",
      "\n",
      "board = p1_bridge(board, ['green', 'blue'], 3, 3) Instruction: stack the red washer on the right side of the green horizontal bridge in the 4th row, 4th column. This is p1_bridge.\n",
      " Function\n",
      "def p1_bridge (board, colors, x, y):\n"
     ]
    }
   ],
   "source": [
    "print(\"Function\\ndef put (board, shape, color, x, y):\\n\\n    put(board, \\\"washer\\\", color, x, y)\\n    \\n\\n    return board\\n\\n\\n Usage\\n\\nboard = put(board, 'washer', 'red', 4, 6) Instruction: stack the blue washer on the top side of the green vertical bridge in the 4th row, 4th column. This is p1_bridge.\\n Function\\ndef p1_bridge (board, colors, x, y):\\n\\n    put(board, \\\"bridge-v\\\", colors[0], x, y)\\n    put(board, \\\"washer\\\", colors[1], x, y)\\n    \\n\\n    return board\\n\\n\\n Usage\\n\\nboard = p1_bridge(board, ['green', 'blue'], 3, 3) Instruction: stack the red washer on the right side of the green horizontal bridge in the 4th row, 4th column. This is p1_bridge.\\n Function\\ndef p1_bridge (board, colors, x, y):\")"
   ]
  },
  {
   "cell_type": "code",
   "execution_count": 2,
   "metadata": {},
   "outputs": [
    {
     "data": {
      "text/plain": [
       "28"
      ]
     },
     "execution_count": 2,
     "metadata": {},
     "output_type": "execute_result"
    }
   ],
   "source": [
    "len(\"./mistral-87b-text-to-python\")"
   ]
  },
  {
   "cell_type": "code",
   "execution_count": 3,
   "metadata": {},
   "outputs": [
    {
     "data": {
      "text/plain": [
       "('place a red washer in the 5th row, 7th column', '')"
      ]
     },
     "execution_count": 3,
     "metadata": {},
     "output_type": "execute_result"
    }
   ],
   "source": [
    "k1 = \"You are a helpful assistant who is designed to interpret and translate natural language instructions into python executable code snippets.\\n\\nThe environment consists of a grid of size 8x8, where unique shapes occupy single cells, with the exception of the \\\"bridge\\\" shape, which spans two cells. When placed horizontally, its sides are labeled 'left' and 'right'; vertically, they're 'top' and 'bottom'. For a horizontal bridge, the left and right sides occupy the same row, but adjacent columns. For a vertical bridge, the top and bottom sides are in the same column, but consecutive rows.\\n\\nIn the grid, columns align with the x-axis and rows with the y-axis. Python indexing is used to identify each cell. The cell in the top-left corner is in the first row and first column, corresponding to x and y values of 0, 0. Similarly, the top-right corner cell is in the first row and eighth column, with x and y values of 0, 7.\\n\\n- Use the shape name 'bridge-h' if a bridge is placed horizontally\\n- Use the shape name 'bridge-v' if a bridge is placed vertically\\n\\nThe following functions are already defined; therefore, do not generate additional code for it\\n- Use `put(board: np.ndarray, shape: string, color: string, x: int, y: int) to place a shape on the board\\n\\nFor each instruction labeled Instruction please respond with code under the label Output followed by a newline.\\n\\nInstruction\\nplace a blue nut in the 3rd row, 1st column\\n\\nOutput\\nput(board, shape='nut', color='blue', x=2, y=0)\\n\\nInstruction\\nplace a yellow screw in the 8th row, 8th column\\n\\nOutput\\nput(board, shape='screw', color='yellow', x=7, y=7)\\n\\nDo not generate any other text/explanations.\\n\\nEnsure the response can be executed by Python `exec()`, e.g.: no trailing commas, no periods, etc.\\n\\nLets begin\\n\\nInstruction\\nplace a red washer in the 5th row, 7th column\\n\"\n",
    "k2 = k1.split(\"\\n\")\n",
    "k2[-2], k2[-1]"
   ]
  },
  {
   "cell_type": "code",
   "execution_count": 1,
   "metadata": {},
   "outputs": [
    {
     "data": {
      "text/plain": [
       "25.0"
      ]
     },
     "execution_count": 1,
     "metadata": {},
     "output_type": "execute_result"
    }
   ],
   "source": [
    "(5/20)*100"
   ]
  },
  {
   "cell_type": "code",
   "execution_count": null,
   "metadata": {},
   "outputs": [],
   "source": [
    "k1 = {'2:1': [('W', 'b')]}\n",
    "k2 = {'2:1': [('S', 'b')]}\n",
    "\n",
    "for loc in k1:\n",
    "    if loc in k2:\n",
    "        if len(k1[loc]) != len(k2[loc]):\n",
    "            print(\"count_mismatch\")\n",
    "        else:\n",
    "            for i in range(len(k1[loc])):\n",
    "                if k1[loc][i] != k2[loc][i]:\n",
    "                    print(\"mismatch\")\n",
    "    else:\n",
    "        print(\"loc_mismatch\")"
   ]
  },
  {
   "cell_type": "code",
   "execution_count": 3,
   "metadata": {},
   "outputs": [
    {
     "name": "stdout",
     "output_type": "stream",
     "text": [
      "Not equal\n",
      "Equal\n"
     ]
    }
   ],
   "source": [
    "k1 = [1,2]\n",
    "k2 = [2,1]\n",
    "\n",
    "if k1 == k2:\n",
    "    print(\"Equal\")\n",
    "else:\n",
    "    print(\"Not equal\")\n",
    "\n",
    "if set(k1) == set(k2):\n",
    "    print(\"Equal\")"
   ]
  },
  {
   "cell_type": "code",
   "execution_count": 5,
   "metadata": {},
   "outputs": [
    {
     "name": "stdout",
     "output_type": "stream",
     "text": [
      "{1, 2} {1, 2}\n"
     ]
    }
   ],
   "source": [
    "k1 = [1, 2, 2] \n",
    "k2 = [2, 1, 1]\n",
    "\n",
    "print(set(k1), set(k2))\n",
    "\n",
    "if set(k1) == set(k2) and k1 == k2:\n",
    "    print(\"Equal\")"
   ]
  },
  {
   "cell_type": "code",
   "execution_count": null,
   "metadata": {},
   "outputs": [],
   "source": []
  }
 ],
 "metadata": {
  "kernelspec": {
   "display_name": "Python 3",
   "language": "python",
   "name": "python3"
  },
  "language_info": {
   "codemirror_mode": {
    "name": "ipython",
    "version": 3
   },
   "file_extension": ".py",
   "mimetype": "text/x-python",
   "name": "python",
   "nbconvert_exporter": "python",
   "pygments_lexer": "ipython3",
   "version": "3.10.12"
  }
 },
 "nbformat": 4,
 "nbformat_minor": 2
}
