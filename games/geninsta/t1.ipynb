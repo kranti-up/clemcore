{
 "cells": [
  {
   "cell_type": "code",
   "execution_count": 27,
   "metadata": {},
   "outputs": [
    {
     "name": "stdout",
     "output_type": "stream",
     "text": [
      "⬜️⬜️⬜️⬜️⬜️⬜️⬜️⬜️\n",
      "⬜️⬜️⬜️⬜️⬜️⬜️⬜️⬜️\n",
      "⬜️⬜️⬜️⬜️⬜️⬜️⬜️⬜️\n",
      "⬜️⬜️⬜️⬜️⬜️⬜️⬜️⬜️\n",
      "⬜️⬜️⬜️⬜️⬜️⬜️⬜️⬜️\n",
      "⬜️⬜️⬜️⬜️⬜️⬜️⬜️⬜️\n",
      "⬜️⬜️⬜️⬜️⬜️⬜️⬜️⬜️\n",
      "⬜️⬜️⬜️⬜️⬜️⬜️⬜️⬜️\n"
     ]
    }
   ],
   "source": [
    "empty_cell = \"⬜️\"\n",
    "row = empty_cell * 8\n",
    "board_details = \"\\n\".join([row for _ in range(8)])\n",
    "\n",
    "print(board_details)"
   ]
  },
  {
   "cell_type": "code",
   "execution_count": 35,
   "metadata": {},
   "outputs": [
    {
     "name": "stdout",
     "output_type": "stream",
     "text": [
      "[[('washer', 'red'), ('nut', 'blue')], '⬜️', '⬜️', '⬜️', '⬜️', '⬜️', '⬜️', '⬜️']\n",
      "['⬜️', '⬜️', '⬜️', '⬜️', '⬜️', '⬜️', '⬜️', '⬜️']\n",
      "['⬜️', '⬜️', '⬜️', '⬜️', '⬜️', '⬜️', '⬜️', '⬜️']\n",
      "['⬜️', '⬜️', '⬜️', '⬜️', '⬜️', '⬜️', '⬜️', '⬜️']\n",
      "['⬜️', '⬜️', '⬜️', '⬜️', '⬜️', '⬜️', '⬜️', '⬜️']\n",
      "['⬜️', '⬜️', '⬜️', '⬜️', '⬜️', '⬜️', '⬜️', '⬜️']\n",
      "['⬜️', '⬜️', '⬜️', '⬜️', '⬜️', '⬜️', '⬜️', '⬜️']\n",
      "['⬜️', '⬜️', '⬜️', '⬜️', '⬜️', '⬜️', '⬜️', '⬜️']\n"
     ]
    }
   ],
   "source": [
    "\n",
    "board_details = [[empty_cell for _ in range(8)] for _ in range(8)]\n",
    "board_data = {\"shapes\": [\"washer\", \"nut\"], \"cols\": 8, \"rows\":8, \"x\": [0, 0], \"y\": [0,0], \"colors\": [\"red\", \"blue\"]}\n",
    "\n",
    "for index, shape in enumerate(board_data[\"shapes\"]):\n",
    "    x, y = board_data[\"x\"][index], board_data[\"y\"][index]\n",
    "    color = board_data[\"colors\"][index]\n",
    "\n",
    "    #print(x, y, shape, color)\n",
    "    #print(type(board_details))\n",
    "\n",
    "    cell_location = x + y * board_data[\"cols\"]\n",
    "\n",
    "    if board_details[y][x] == empty_cell:\n",
    "        board_details[y][x] = [(shape, color)]\n",
    "    else:\n",
    "        board_details[y][x].append((shape, color))\n",
    "\n",
    "for row in board_details:\n",
    "    print(row)"
   ]
  },
  {
   "cell_type": "code",
   "execution_count": null,
   "metadata": {},
   "outputs": [],
   "source": []
  }
 ],
 "metadata": {
  "kernelspec": {
   "display_name": "Python 3",
   "language": "python",
   "name": "python3"
  },
  "language_info": {
   "codemirror_mode": {
    "name": "ipython",
    "version": 3
   },
   "file_extension": ".py",
   "mimetype": "text/x-python",
   "name": "python",
   "nbconvert_exporter": "python",
   "pygments_lexer": "ipython3",
   "version": "3.9.6"
  }
 },
 "nbformat": 4,
 "nbformat_minor": 2
}
